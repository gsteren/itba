{
 "cells": [
  {
   "cell_type": "markdown",
   "metadata": {},
   "source": [
    "# Ej 7 - Repaso de probabilidad"
   ]
  },
  {
   "cell_type": "code",
   "execution_count": 1,
   "metadata": {},
   "outputs": [
    {
     "name": "stdout",
     "output_type": "stream",
     "text": [
      "[[3. 3. 1. 6. 1.]\n",
      " [1. 4. 7. 1. 0.]\n",
      " [1. 4. 3. 1. 0.]\n",
      " [4. 2. 1. 5. 1.]\n",
      " [1. 3. 4. 2. 0.]\n",
      " [2. 4. 5. 1. 0.]]\n"
     ]
    }
   ],
   "source": [
    "import numpy as np\n",
    "\n",
    "# nro mails\n",
    "nmails = 6\n",
    "# words\n",
    "nwords = 4\n",
    "\n",
    "# conteo de words + clasificacion Spam = 1 / Ham = 0 \n",
    "wcount = np.zeros((nmails, nwords+1))\n",
    "wcount[0,:] = [3,3,1,6,1]\n",
    "wcount[1,:] = [1,4,7,1,0]\n",
    "wcount[2,:] = [1,4,3,1,0]\n",
    "wcount[3,:] = [4,2,1,5,1]\n",
    "wcount[4,:] = [1,3,4,2,0]\n",
    "wcount[5,:] = [2,4,5,1,0]\n",
    "\n",
    "print(wcount)"
   ]
  },
  {
   "cell_type": "code",
   "execution_count": 32,
   "metadata": {},
   "outputs": [
    {
     "name": "stdout",
     "output_type": "stream",
     "text": [
      "[[0.28 0.2  0.08 0.44]]\n",
      "[[0.11363636 0.34090909 0.43181818 0.11363636]]\n"
     ]
    }
   ],
   "source": [
    "# Calculo de probabilidades\n",
    "# Indices mails SPAM/HAM\n",
    "idx_spam = np.nonzero(wcount[:,-1])\n",
    "idx_ham = np.argwhere(wcount[:,-1]==0)                      \n",
    "# Probabilidad SPAM/HAM\n",
    "p_spam = np.size(idx_spam)/nmails\n",
    "p_ham = np.size(idx_ham)/nmails\n",
    "\n",
    "# Probabilidad de ocurrencia c/word: P(wi/S)\n",
    "sum_w_spam = np.sum(wcount[idx_spam,0:nwords],axis=1)\n",
    "nwords_spam = np.sum(wcount[idx_spam,0:nwords]) \n",
    "p_w_spam = sum_w_spam/nwords_spam\n",
    "# Probabilidad de ocurrencia c/word: P(wi/H)\n",
    "sum_w_ham = np.sum(wcount[idx_ham,0:nwords],axis=0)\n",
    "nwords_ham = np.sum(wcount[idx_ham,0:nwords]) \n",
    "p_w_ham = sum_w_ham/nwords_ham\n",
    "\n",
    "print(p_w_spam)\n",
    "print(p_w_ham)"
   ]
  },
  {
   "cell_type": "code",
   "execution_count": 43,
   "metadata": {},
   "outputs": [
    {
     "name": "stdout",
     "output_type": "stream",
     "text": [
      "El mail es SPAM\n"
     ]
    }
   ],
   "source": [
    "# Test nuevo mail \n",
    "tcount = np.array([4,1,1,5])\n",
    "\n",
    "# Probabilidad SPAM\n",
    "p_t_spam = p_spam*np.prod(np.power(p_w_spam,tcount))\n",
    "\n",
    "# Probabilidad HAM\n",
    "p_t_ham = p_ham*np.prod(np.power(p_w_ham,tcount))\n",
    "\n",
    "if p_t_spam < p_t_ham:\n",
    "    print('El mail es HAM')\n",
    "else: \n",
    "    print('El mail es SPAM')"
   ]
  },
  {
   "cell_type": "code",
   "execution_count": null,
   "metadata": {},
   "outputs": [],
   "source": []
  }
 ],
 "metadata": {
  "kernelspec": {
   "display_name": "Python 3",
   "language": "python",
   "name": "python3"
  },
  "language_info": {
   "codemirror_mode": {
    "name": "ipython",
    "version": 3
   },
   "file_extension": ".py",
   "mimetype": "text/x-python",
   "name": "python",
   "nbconvert_exporter": "python",
   "pygments_lexer": "ipython3",
   "version": "3.6.4"
  }
 },
 "nbformat": 4,
 "nbformat_minor": 2
}
