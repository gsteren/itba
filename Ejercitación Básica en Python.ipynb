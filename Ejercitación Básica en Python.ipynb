{
 "cells": [
  {
   "cell_type": "markdown",
   "metadata": {},
   "source": [
    "# Ejercitación Básica en Python\n",
    "\n",
    "Los siguientes ejercicios tienen como objetivo introducir al alumno en la programación en Python.  \n",
    "Los mismos están ordenados por dificultad ascendente y fueron extraídos de http://www.practicepython.org/.\n",
    "En dicha página hay información adicional sobre cada ejercicio. Se recomienda leer cada link con detenimiento ya que los recursos para realizar la resolución se encuentran explicados con detalle."
   ]
  },
  {
   "cell_type": "markdown",
   "metadata": {},
   "source": [
    "[Ejercicio 1](http://www.practicepython.org/exercise/2014/01/29/01-character-input.html)\n",
    "- Escribir un programa que pregunte al usuario su nombre y la edad. \n",
    "- Imprimir un mensaje dirigido al usuario que le diga en qué año va a tener 100 años."
   ]
  },
  {
   "cell_type": "code",
   "execution_count": 40,
   "metadata": {},
   "outputs": [
    {
     "name": "stdout",
     "output_type": "stream",
     "text": [
      "Ingrese su nombre: gabi\n",
      "Ingrese su edad: 45\n",
      "Tendra 100 anios en el año: 2072\n"
     ]
    }
   ],
   "source": [
    "name = input('Ingrese su nombre: ')\n",
    "age = int(input('Ingrese su edad: '))\n",
    "x = 2018+99-age\n",
    "print ('Tendra 100 anios en el año: ' + \"%d\" % x)"
   ]
  },
  {
   "cell_type": "markdown",
   "metadata": {},
   "source": [
    "[Ejercicio 2](http://www.practicepython.org/exercise/2014/02/05/02-odd-or-even.html)\n",
    "- Pedir al usuario que ingrese un número.\n",
    "- Imprimir un mensaje indicando si el número es par o impar."
   ]
  },
  {
   "cell_type": "code",
   "execution_count": 12,
   "metadata": {},
   "outputs": [
    {
     "name": "stdout",
     "output_type": "stream",
     "text": [
      "Ingrese un numero55\n",
      "x es impar\n"
     ]
    }
   ],
   "source": [
    "x = int(input('Ingrese un numero: '))\n",
    "if (x % 2) == 0: \n",
    "    print('El numero ingresado es par')\n",
    "else: \n",
    "    print('El numero ingresado es impar')"
   ]
  },
  {
   "cell_type": "markdown",
   "metadata": {},
   "source": [
    "[Ejercicio 3](http://www.practicepython.org/exercise/2014/02/15/03-list-less-than-ten.html):\n",
    "\n",
    "- Escribir un programa que imprima todos los elementos de una lista que sean menores al 5.\n",
    "\n"
   ]
  },
  {
   "cell_type": "code",
   "execution_count": 95,
   "metadata": {},
   "outputs": [
    {
     "data": {
      "text/plain": [
       "[1, 2, 3, 4]"
      ]
     },
     "execution_count": 95,
     "metadata": {},
     "output_type": "execute_result"
    }
   ],
   "source": [
    "a = [1, 2, 3, 4, 5, 6, 7, 8, 9]\n",
    "p = [x for x in a if x < 5]\n",
    "p"
   ]
  },
  {
   "cell_type": "markdown",
   "metadata": {},
   "source": [
    "[Ejercicio 4](http://www.practicepython.org/exercise/2014/02/26/04-divisors.html)\n",
    "- Pedir al usuario que ingrese un número.\n",
    "- Imprimir todos los divisores del número ingresado."
   ]
  },
  {
   "cell_type": "code",
   "execution_count": 93,
   "metadata": {},
   "outputs": [
    {
     "name": "stdout",
     "output_type": "stream",
     "text": [
      "Ingrese un numero: 15\n",
      "Los divisores del numero ingresado son: \n"
     ]
    },
    {
     "data": {
      "text/plain": [
       "[1, 3, 5]"
      ]
     },
     "execution_count": 93,
     "metadata": {},
     "output_type": "execute_result"
    }
   ],
   "source": [
    "x = int(input('Ingrese un numero: '))\n",
    "y = range(1,x-1)\n",
    "div = []\n",
    "for i in y:\n",
    "    if (x % i) == 0: \n",
    "        div.append(i) \n",
    "print('Los divisores del numero ingresado son: ')\n",
    "div"
   ]
  },
  {
   "cell_type": "markdown",
   "metadata": {},
   "source": [
    "[Ejercicio 5](http://www.practicepython.org/exercise/2014/03/05/05-list-overlap.html)\n",
    "- Escribir un programa que a partir de dos listas, devuelva los elementos comunes entre las dos listas.\n",
    "- La salida deberá no tener elementos duplicados.\n",
    "- Asegúrese que su programa funcione para dos listas de distintos tamaños."
   ]
  },
  {
   "cell_type": "code",
   "execution_count": 92,
   "metadata": {},
   "outputs": [
    {
     "data": {
      "text/plain": [
       "{1, 2, 7, 8, 9}"
      ]
     },
     "execution_count": 92,
     "metadata": {},
     "output_type": "execute_result"
    }
   ],
   "source": [
    "a = set([1, 2, 3, 4, 5, 6, 7, 8, 9])\n",
    "b = set([1, 2, 13, 14, 15, 16, 7, 8, 9, 1, 2])\n",
    "(a & b)"
   ]
  },
  {
   "cell_type": "markdown",
   "metadata": {},
   "source": [
    "[Ejercicio 6](http://www.practicepython.org/exercise/2014/03/12/06-string-lists.html)\n",
    "- Pedir al usuario que ingrese un texto.\n",
    "- Imprimir un mensaje que indique si el texto ingresado es un paĺíndromo o no."
   ]
  },
  {
   "cell_type": "code",
   "execution_count": 89,
   "metadata": {},
   "outputs": [
    {
     "name": "stdout",
     "output_type": "stream",
     "text": [
      "Ingrese una palabra: casa\n",
      "La palabra ingresada no es palindromo\n"
     ]
    }
   ],
   "source": [
    "txt = input('Ingrese una palabra: ')\n",
    "l = len(txt)\n",
    "flg = 1\n",
    "for i in range(0,int(l/2)):\n",
    "    if txt[i] != txt[-(i+1)]:\n",
    "        flg = 0\n",
    "        print('La palabra ingresada no es palindromo')\n",
    "        break\n",
    "if flg:\n",
    "    print('La palabra ingresada es palindromo')"
   ]
  },
  {
   "cell_type": "markdown",
   "metadata": {},
   "source": [
    "[Ejercicio 7](http://www.practicepython.org/exercise/2014/03/19/07-list-comprehensions.html)\n",
    "- Escribir un programa que a partir de una lista, devuelva una lista que solo contenga los elementos pares.\n",
    "- La selección de elementos deberá hacerse en una sola línea de código."
   ]
  },
  {
   "cell_type": "code",
   "execution_count": 91,
   "metadata": {},
   "outputs": [
    {
     "data": {
      "text/plain": [
       "[2, 4, 6, 8]"
      ]
     },
     "execution_count": 91,
     "metadata": {},
     "output_type": "execute_result"
    }
   ],
   "source": [
    "a = [1, 2, 3, 4, 5, 6, 7, 8, 9]\n",
    "p = [x for x in a if x % 2 == 0]\n",
    "p"
   ]
  },
  {
   "cell_type": "markdown",
   "metadata": {},
   "source": [
    "[Ejercicio 10](http://www.practicepython.org/exercise/2014/04/10/10-list-overlap-comprehensions.html)\n",
    "- Al igual que en el ejercicio 5, a partir de dos listas, se ddeberán devolver los elementos comunes entre las dos listas.\n",
    "- La salida deberá no tener elementos duplicados.\n",
    "- Se deberán utilizar list comprenhensions."
   ]
  },
  {
   "cell_type": "markdown",
   "metadata": {},
   "source": [
    "[Ejercicio 17](http://www.practicepython.org/exercise/2014/06/06/17-decode-a-web-page.html)\n",
    "\n",
    "- Utilizar los paquetes BeautifulSoup y request para imprimir una lista de los títulos de la página principal del [New York Times](https://www.nytimes.com/)."
   ]
  },
  {
   "cell_type": "code",
   "execution_count": 94,
   "metadata": {},
   "outputs": [
    {
     "data": {
      "text/plain": [
       "{1, 2, 7, 8, 9}"
      ]
     },
     "execution_count": 94,
     "metadata": {},
     "output_type": "execute_result"
    }
   ],
   "source": [
    "# Ejercicio 10\n",
    "a = [1, 2, 4, 5, 6, 7, 8, 9]\n",
    "b = [1, 2, 13, 14, 15, 16, 7, 8, 9, 1, 2]\n",
    "p = [y for y in b for x in a if x == y]\n",
    "set(p)"
   ]
  },
  {
   "cell_type": "code",
   "execution_count": 104,
   "metadata": {},
   "outputs": [
    {
     "name": "stdout",
     "output_type": "stream",
     "text": [
      "<title>The New York Times - Breaking News, World News &amp; Multimedia</title>\n",
      "The New York Times - Breaking News, World News & Multimedia\n"
     ]
    }
   ],
   "source": [
    "# Ejercicio 17\n",
    "from urllib import request\n",
    "url = \"http://www.nytimes.com/\"\n",
    "html = request.urlopen(url).read().decode('utf8')\n",
    "html[:60]\n",
    "\n",
    "from bs4 import BeautifulSoup\n",
    "soup = BeautifulSoup(html, 'html.parser')\n",
    "title = soup.find('title')\n",
    "\n",
    "print(title) # Prints the tag\n",
    "print(title.string) # Prints the tag string content\n",
    "    "
   ]
  },
  {
   "cell_type": "code",
   "execution_count": null,
   "metadata": {},
   "outputs": [],
   "source": []
  },
  {
   "cell_type": "code",
   "execution_count": null,
   "metadata": {},
   "outputs": [],
   "source": []
  }
 ],
 "metadata": {
  "kernelspec": {
   "display_name": "Python 3",
   "language": "python",
   "name": "python3"
  },
  "language_info": {
   "codemirror_mode": {
    "name": "ipython",
    "version": 3
   },
   "file_extension": ".py",
   "mimetype": "text/x-python",
   "name": "python",
   "nbconvert_exporter": "python",
   "pygments_lexer": "ipython3",
   "version": "3.6.4"
  }
 },
 "nbformat": 4,
 "nbformat_minor": 2
}
